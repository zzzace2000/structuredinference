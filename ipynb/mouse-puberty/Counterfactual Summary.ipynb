{
 "cells": [
  {
   "cell_type": "markdown",
   "metadata": {},
   "source": [
    "# Counterfactual analysis"
   ]
  },
  {
   "cell_type": "markdown",
   "metadata": {},
   "source": [
    "I treat gender and each time point as independent actions, and then I do a 'female' actions on a male mouse starting from t=2 and do a 'male' actions on a female mouse from t=2."
   ]
  },
  {
   "cell_type": "markdown",
   "metadata": {},
   "source": [
    "![](../../images/x_male_cfac.png)"
   ]
  },
  {
   "cell_type": "markdown",
   "metadata": {},
   "source": [
    "In this case this is a male mouse with hyppothalamus tissue of 183 genes and use PCA to project to 2 dims.  \n",
    "x_observe means the original observations.  \n",
    "x_gender is that we use 'male' actions starting from t=2 and observe its gene expression change.  \n",
    "x_opposite_gender is that we use 'female' actions starting from t=2 and observe its gene expression change.  \n",
    "All these 3 are the same in t=1. So they are all white in the left down corner.\n",
    "x_gender and x_opposite_gender starts diverging in t=3."
   ]
  },
  {
   "cell_type": "markdown",
   "metadata": {},
   "source": [
    "![](../../images/z_male_cfac.png)"
   ]
  },
  {
   "cell_type": "markdown",
   "metadata": {},
   "source": [
    "This is the hidden state for t=2 to 5. When t=2, these 2 are the same but diverges in t=3."
   ]
  },
  {
   "cell_type": "markdown",
   "metadata": {},
   "source": [
    "This is for female and do the 'male' actions"
   ]
  },
  {
   "cell_type": "markdown",
   "metadata": {
    "collapsed": true
   },
   "source": [
    "![](../../images/x_female_cfac.png)"
   ]
  },
  {
   "cell_type": "markdown",
   "metadata": {
    "collapsed": true
   },
   "source": [
    "![](../../images/z_female_cfac.png)"
   ]
  },
  {
   "cell_type": "code",
   "execution_count": null,
   "metadata": {
    "collapsed": true
   },
   "outputs": [],
   "source": []
  }
 ],
 "metadata": {
  "kernelspec": {
   "display_name": "Python 2",
   "language": "python",
   "name": "python2"
  },
  "language_info": {
   "codemirror_mode": {
    "name": "ipython",
    "version": 2
   },
   "file_extension": ".py",
   "mimetype": "text/x-python",
   "name": "python",
   "nbconvert_exporter": "python",
   "pygments_lexer": "ipython2",
   "version": "2.7.12"
  }
 },
 "nbformat": 4,
 "nbformat_minor": 1
}
